{
 "cells": [
  {
   "cell_type": "markdown",
   "metadata": {},
   "source": [
    "Ejercicio 1:  Desarrolle una aplicación que calcule el factorial de un numero entero introducido por \n",
    "teclado"
   ]
  },
  {
   "cell_type": "code",
   "execution_count": 4,
   "metadata": {},
   "outputs": [
    {
     "name": "stdout",
     "output_type": "stream",
     "text": [
      "El factorial de 5 es: 120\n"
     ]
    }
   ],
   "source": [
    "def calfact(numero):\n",
    "    fact = 1\n",
    "    for i in range(1, numero + 1):\n",
    "        fact *= i\n",
    "    return fact\n",
    "\n",
    "num = int(input(\"Ingrese un numero entero valido para calcular el factorial: \"))\n",
    "    \n",
    "if num < 0:\n",
    "    print(\"El factorial o esta definido para números negativos.\")\n",
    "else:\n",
    "    resultado = calfact(num)\n",
    "    print(f\"El factorial de {num} es: {resultado}\")"
   ]
  },
  {
   "cell_type": "markdown",
   "metadata": {},
   "source": [
    "Ejercicio 2: Desarrolle una aplicación que determine si un numero introducido por teclado es primo o \n",
    "no"
   ]
  },
  {
   "cell_type": "code",
   "execution_count": 6,
   "metadata": {},
   "outputs": [
    {
     "name": "stdout",
     "output_type": "stream",
     "text": [
      "El numero 10 no es primo.\n"
     ]
    }
   ],
   "source": [
    "def primo(numero):\n",
    "    if numero < 2:\n",
    "        return False\n",
    "    for i in range(2, int(numero**0.5) + 1):\n",
    "        if numero % i == 0:\n",
    "            return False\n",
    "    return True\n",
    "\n",
    "num = int(input(\"Ingrese un numero para verificar si es primo: \"))\n",
    "    \n",
    "if primo(num):\n",
    "    print(f\"El numero {num} es primo.\")\n",
    "else:\n",
    "    print(f\"El numero {num} no es primo.\")\n"
   ]
  },
  {
   "cell_type": "markdown",
   "metadata": {},
   "source": [
    "Ejercio 3: Desarrolle una aplicación que permita ingresar diferentes números por teclado con un limite \n",
    "definido inicialmente (no menor a 3 números) y determine cual de ellos es el mayor y el menor"
   ]
  },
  {
   "cell_type": "code",
   "execution_count": 16,
   "metadata": {},
   "outputs": [
    {
     "name": "stdout",
     "output_type": "stream",
     "text": [
      "El número mayor es: 3.0\n",
      "El número menor es: 1.0\n"
     ]
    }
   ],
   "source": [
    "limite = int(input(\"Ingrese el límite de números (no menor a 3): \"))\n",
    "if limite < 3:\n",
    "    print(\"El límite ingresado no es válido. Debe ser al menos 3.\")\n",
    "else:\n",
    "    primernumero = float(input(\"Ingrese el primer número: \"))\n",
    "\n",
    "    mayor = primernumero\n",
    "    menor = primernumero\n",
    "\n",
    "    for i in range(1, limite):\n",
    "        numero = float(input(f\"Ingrese el número {i + 1}: \"))\n",
    "        \n",
    "        if numero > mayor:\n",
    "            mayor = numero\n",
    "        if numero < menor:\n",
    "            menor = numero\n",
    "            \n",
    "    print(f\"El número mayor es: {mayor}\")\n",
    "    print(f\"El número menor es: {menor}\")\n"
   ]
  },
  {
   "cell_type": "markdown",
   "metadata": {},
   "source": [
    "Ejercicio 4:  desarrolle una aplicación que permita introducir 7 números por teclado y determine cual de \n",
    "ellos se repite más veces y cuantas."
   ]
  },
  {
   "cell_type": "code",
   "execution_count": 20,
   "metadata": {},
   "outputs": [
    {
     "name": "stdout",
     "output_type": "stream",
     "text": [
      "El numero que mas veces se repite es el 5 ya que se repite 6 veces.\n"
     ]
    }
   ],
   "source": [
    "numeros = []\n",
    "for i in range(7):\n",
    "    numero = int(input(f\"Ingrese el número {i + 1}: \"))\n",
    "    numeros.append(numero)\n",
    "\n",
    "frecuencias = {}\n",
    "for num in numeros:\n",
    "    if num in frecuencias:\n",
    "        frecuencias[num] += 1\n",
    "    else:\n",
    "        frecuencias[num] = 1\n",
    "\n",
    "numrepetido = max(frecuencias, key=frecuencias.get)\n",
    "frecuencia_max = frecuencias[numrepetido]\n",
    "\n",
    "print(f\"El numero que mas veces se repite es el {numrepetido} ya que se repite {frecuencia_max} veces.\")\n"
   ]
  },
  {
   "cell_type": "markdown",
   "metadata": {},
   "source": [
    "Ejercicio 5:  Desarrolle una aplicación que permita identificar si una cadena introducida por teclado es \n",
    "un palíndromo ( oso es palíndromo )\n"
   ]
  },
  {
   "cell_type": "code",
   "execution_count": 22,
   "metadata": {},
   "outputs": [
    {
     "name": "stdout",
     "output_type": "stream",
     "text": [
      "hola mundo no es un palíndromo.\n"
     ]
    }
   ],
   "source": [
    "def palindromo(cadena):\n",
    "    cadenaN = ''.join(caracter.lower() for caracter in cadena if caracter.isalpha())\n",
    "\n",
    "    return cadenaN == cadenaN[::-1]\n",
    "\n",
    "cadingresada = input(\"Ingrese una cadena para verificar si es un palíndromo: \")\n",
    "\n",
    "if palindromo(cadingresada):\n",
    "    print(f\"{cadingresada} es un palindromo.\")\n",
    "else:\n",
    "    print(f\"{cadingresada} no es un palindromo.\")\n"
   ]
  },
  {
   "cell_type": "code",
   "execution_count": null,
   "metadata": {},
   "outputs": [],
   "source": []
  }
 ],
 "metadata": {
  "kernelspec": {
   "display_name": "base",
   "language": "python",
   "name": "python3"
  },
  "language_info": {
   "codemirror_mode": {
    "name": "ipython",
    "version": 3
   },
   "file_extension": ".py",
   "mimetype": "text/x-python",
   "name": "python",
   "nbconvert_exporter": "python",
   "pygments_lexer": "ipython3",
   "version": "3.12.1"
  }
 },
 "nbformat": 4,
 "nbformat_minor": 2
}
